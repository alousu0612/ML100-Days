{
  "nbformat": 4,
  "nbformat_minor": 0,
  "metadata": {
    "colab": {
      "name": "Day_088_HW.ipynb",
      "version": "0.3.2",
      "provenance": [],
      "collapsed_sections": [],
      "include_colab_link": true
    },
    "kernelspec": {
      "name": "python3",
      "display_name": "Python 3"
    },
    "accelerator": "GPU"
  },
  "cells": [
    {
      "cell_type": "markdown",
      "metadata": {
        "id": "view-in-github",
        "colab_type": "text"
      },
      "source": [
        "<a href=\"https://colab.research.google.com/github/alousu0612/ML100-Days/blob/master/Day_088_HW.ipynb\" target=\"_parent\"><img src=\"https://colab.research.google.com/assets/colab-badge.svg\" alt=\"Open In Colab\"/></a>"
      ]
    },
    {
      "metadata": {
        "id": "f8ydD_B8YkTa",
        "colab_type": "text"
      },
      "cell_type": "markdown",
      "source": [
        "## Work\n",
        "1. 請嘗試寫一個 callback 用來記錄各類別在訓練過程中，對驗證集的 True Positive 與 True Negative"
      ]
    },
    {
      "metadata": {
        "id": "feWQDiPQYkTh",
        "colab_type": "code",
        "colab": {}
      },
      "cell_type": "code",
      "source": [
        "import os\n",
        "import keras\n",
        "import matplotlib.pyplot as plt\n",
        "plt.style.use('ggplot')\n",
        "%matplotlib inline\n",
        "\n",
        "import tensorflow as tf\n",
        "from numba import cuda\n",
        "import itertools\n",
        "\n",
        "# Disable GPU\n",
        "# os.environ[\"CUDA_VISIBLE_DEVICES\"] = \"\""
      ],
      "execution_count": 0,
      "outputs": []
    },
    {
      "metadata": {
        "id": "94vvIXSfYkTk",
        "colab_type": "code",
        "colab": {}
      },
      "cell_type": "code",
      "source": [
        "train, test = keras.datasets.cifar10.load_data()"
      ],
      "execution_count": 0,
      "outputs": []
    },
    {
      "metadata": {
        "id": "8IC_yWPKYkTn",
        "colab_type": "code",
        "colab": {}
      },
      "cell_type": "code",
      "source": [
        "## 資料前處理\n",
        "def preproc_x(x, flatten=True):\n",
        "    x = x / 255.\n",
        "    if flatten:\n",
        "        x = x.reshape((len(x), -1))\n",
        "    return x\n",
        "\n",
        "def preproc_y(y, num_classes=10):\n",
        "    if y.shape[-1] == 1:\n",
        "        y = keras.utils.to_categorical(y, num_classes)\n",
        "    return y    "
      ],
      "execution_count": 0,
      "outputs": []
    },
    {
      "metadata": {
        "id": "_3L0dfKbYkTq",
        "colab_type": "code",
        "colab": {}
      },
      "cell_type": "code",
      "source": [
        "x_train, y_train = train\n",
        "x_test, y_test = test\n",
        "\n",
        "# Preproc the inputs\n",
        "x_train = preproc_x(x_train)\n",
        "x_test = preproc_x(x_test)\n",
        "\n",
        "# Preprc the outputs\n",
        "y_train = preproc_y(y_train)\n",
        "y_test = preproc_y(y_test)"
      ],
      "execution_count": 0,
      "outputs": []
    },
    {
      "metadata": {
        "id": "Asy6s4eIYkTy",
        "colab_type": "code",
        "colab": {}
      },
      "cell_type": "code",
      "source": [
        "def build_mlp(input_shape, output_units=y_train.shape[-1], n_layers=4, num_neurons=[512, 256, 128, 64]):\n",
        "    \n",
        "    input_layer = keras.layers.Input(input_shape)\n",
        "    \n",
        "    for i, n_units in enumerate(num_neurons[:n_layers]):\n",
        "        if i == 0:\n",
        "            x = keras.layers.BatchNormalization()(input_layer)\n",
        "            x = keras.layers.Dense(units=n_units,\n",
        "                                   activation='relu',\n",
        "                                   name='hidden_layers'+str(i+1))(x)\n",
        "        else:\n",
        "            x = keras.layers.BatchNormalization()(x)\n",
        "            x = keras.layers.Dense(units=n_units,\n",
        "                                   activation='relu',\n",
        "                                   name='hidden_layers'+str(i+1))(x)\n",
        "        \n",
        "    output_layer = keras.layers.Dense(units=output_units, activation='softmax', name='output')(x)\n",
        "\n",
        "    model = keras.models.Model(inputs=[input_layer], outputs=[output_layer])\n",
        "    \n",
        "    return model"
      ],
      "execution_count": 0,
      "outputs": []
    },
    {
      "metadata": {
        "id": "fd975UR5YkT1",
        "colab_type": "code",
        "colab": {}
      },
      "cell_type": "code",
      "source": [
        "## 超參數設定\n",
        "LEARNING_RATE = 1e-3\n",
        "EPOCHS = 50\n",
        "BATCH_SIZE = 1024\n",
        "MOMENTUM = 0.95"
      ],
      "execution_count": 0,
      "outputs": []
    },
    {
      "metadata": {
        "id": "bTL2mM4MYkT7",
        "colab_type": "code",
        "colab": {}
      },
      "cell_type": "code",
      "source": [
        "# 載入 Callbacks\n",
        "from keras.callbacks import Callback\n",
        "from sklearn.metrics import confusion_matrix\n",
        "\n",
        "# Record_fp_tp\n",
        "class Record_tp_tn(Callback):\n",
        "    def on_train_begin(self, epoch, logs={}):\n",
        "        logs = logs or {}\n",
        "        record_items = [\"val_auc\", \"val_f1sc\", \"val_fp\", \"val_fn\", \"val_tp\", \"val_tn\"]\n",
        "        for i in record_items:\n",
        "            if i not in self.params['metrics']:\n",
        "                self.params['metrics'].append(i)\n",
        "              \n",
        "      \n",
        "    def on_epoch_end(self, epoch, logs={}, thres=0.5):\n",
        "        logs = logs or {}\n",
        "        y_true = self.validation_data[1].argmax(axis=1)\n",
        "        y_pred = self.model.predict(self.validation_data[0])\n",
        "        y_pred = (y_pred[:, 1] >= thres) * 1\n",
        "        \n",
        "        con_mat = confusion_matrix(y_true, y_pred)\n",
        "        # tn, fp, fn, tp = confusion_matrix([0, 1, 0, 1], [1, 1, 1, 0]).ravel()\n",
        "        logs[\"val_tp\"] = con_mat.ravel()[3]\n",
        "        logs[\"val_tn\"] = con_mat.ravel()[0]\n",
        "      \n",
        "\n",
        "\n",
        "rec_tptn = Record_tp_tn()"
      ],
      "execution_count": 0,
      "outputs": []
    },
    {
      "metadata": {
        "scrolled": true,
        "id": "wylSFY97YkUB",
        "colab_type": "code",
        "colab": {
          "base_uri": "https://localhost:8080/",
          "height": 2213
        },
        "outputId": "ba4e3294-ce9c-4c96-8bb9-5367fc4ecbd3"
      },
      "cell_type": "code",
      "source": [
        "model = build_mlp(input_shape=x_train.shape[1:])\n",
        "model.summary()\n",
        "optimizer = keras.optimizers.SGD(lr=LEARNING_RATE, nesterov=True, momentum=MOMENTUM)\n",
        "model.compile(loss=\"categorical_crossentropy\", metrics=[\"accuracy\"], optimizer=optimizer)\n",
        "\n",
        "\n",
        "model.fit(x_train, y_train, \n",
        "          epochs=EPOCHS, \n",
        "          batch_size=BATCH_SIZE, \n",
        "          validation_data=(x_test, y_test), \n",
        "          shuffle=True,\n",
        "          callbacks=[rec_tptn])\n",
        "\n",
        "# Collect results\n",
        "\n",
        "train_loss = model.history.history[\"loss\"]\n",
        "valid_loss = model.history.history[\"val_loss\"]\n",
        "train_acc = model.history.history[\"acc\"]\n",
        "valid_acc = model.history.history[\"val_acc\"]\n",
        "\n",
        "\n",
        "valid_tp = model.history.history[\"val_tp\"]\n",
        "valid_tn = model.history.history[\"val_tn\"]"
      ],
      "execution_count": 37,
      "outputs": [
        {
          "output_type": "stream",
          "text": [
            "_________________________________________________________________\n",
            "Layer (type)                 Output Shape              Param #   \n",
            "=================================================================\n",
            "input_7 (InputLayer)         (None, 3072)              0         \n",
            "_________________________________________________________________\n",
            "batch_normalization_25 (Batc (None, 3072)              12288     \n",
            "_________________________________________________________________\n",
            "hidden_layers1 (Dense)       (None, 512)               1573376   \n",
            "_________________________________________________________________\n",
            "batch_normalization_26 (Batc (None, 512)               2048      \n",
            "_________________________________________________________________\n",
            "hidden_layers2 (Dense)       (None, 256)               131328    \n",
            "_________________________________________________________________\n",
            "batch_normalization_27 (Batc (None, 256)               1024      \n",
            "_________________________________________________________________\n",
            "hidden_layers3 (Dense)       (None, 128)               32896     \n",
            "_________________________________________________________________\n",
            "batch_normalization_28 (Batc (None, 128)               512       \n",
            "_________________________________________________________________\n",
            "hidden_layers4 (Dense)       (None, 64)                8256      \n",
            "_________________________________________________________________\n",
            "output (Dense)               (None, 10)                650       \n",
            "=================================================================\n",
            "Total params: 1,762,378\n",
            "Trainable params: 1,754,442\n",
            "Non-trainable params: 7,936\n",
            "_________________________________________________________________\n",
            "Train on 50000 samples, validate on 10000 samples\n",
            "Epoch 1/50\n",
            "50000/50000 [==============================] - 4s 77us/step - loss: 2.3015 - acc: 0.2171 - val_loss: 1.9817 - val_acc: 0.3085\n",
            "Epoch 2/50\n",
            "50000/50000 [==============================] - 2s 42us/step - loss: 1.8397 - acc: 0.3502 - val_loss: 1.8008 - val_acc: 0.3695\n",
            "Epoch 3/50\n",
            "50000/50000 [==============================] - 2s 42us/step - loss: 1.7031 - acc: 0.4018 - val_loss: 1.7192 - val_acc: 0.3946\n",
            "Epoch 4/50\n",
            "50000/50000 [==============================] - 2s 43us/step - loss: 1.6203 - acc: 0.4321 - val_loss: 1.6706 - val_acc: 0.4097\n",
            "Epoch 5/50\n",
            "50000/50000 [==============================] - 2s 42us/step - loss: 1.5569 - acc: 0.4559 - val_loss: 1.6311 - val_acc: 0.4224\n",
            "Epoch 6/50\n",
            "50000/50000 [==============================] - 2s 43us/step - loss: 1.5038 - acc: 0.4735 - val_loss: 1.6019 - val_acc: 0.4315\n",
            "Epoch 7/50\n",
            "50000/50000 [==============================] - 2s 42us/step - loss: 1.4579 - acc: 0.4923 - val_loss: 1.5776 - val_acc: 0.4420\n",
            "Epoch 8/50\n",
            "50000/50000 [==============================] - 2s 42us/step - loss: 1.4162 - acc: 0.5075 - val_loss: 1.5567 - val_acc: 0.4464\n",
            "Epoch 9/50\n",
            "50000/50000 [==============================] - 2s 42us/step - loss: 1.3768 - acc: 0.5213 - val_loss: 1.5391 - val_acc: 0.4514\n",
            "Epoch 10/50\n",
            "50000/50000 [==============================] - 2s 42us/step - loss: 1.3414 - acc: 0.5347 - val_loss: 1.5259 - val_acc: 0.4575\n",
            "Epoch 11/50\n",
            "50000/50000 [==============================] - 2s 42us/step - loss: 1.3080 - acc: 0.5470 - val_loss: 1.5130 - val_acc: 0.4610\n",
            "Epoch 12/50\n",
            "50000/50000 [==============================] - 2s 43us/step - loss: 1.2753 - acc: 0.5582 - val_loss: 1.5013 - val_acc: 0.4653\n",
            "Epoch 13/50\n",
            "50000/50000 [==============================] - 2s 43us/step - loss: 1.2451 - acc: 0.5688 - val_loss: 1.4915 - val_acc: 0.4676\n",
            "Epoch 14/50\n",
            "50000/50000 [==============================] - 2s 42us/step - loss: 1.2139 - acc: 0.5806 - val_loss: 1.4872 - val_acc: 0.4694\n",
            "Epoch 15/50\n",
            "50000/50000 [==============================] - 2s 42us/step - loss: 1.1851 - acc: 0.5914 - val_loss: 1.4800 - val_acc: 0.4722\n",
            "Epoch 16/50\n",
            "50000/50000 [==============================] - 2s 42us/step - loss: 1.1558 - acc: 0.6040 - val_loss: 1.4768 - val_acc: 0.4774\n",
            "Epoch 17/50\n",
            "50000/50000 [==============================] - 2s 43us/step - loss: 1.1260 - acc: 0.6145 - val_loss: 1.4728 - val_acc: 0.4782\n",
            "Epoch 18/50\n",
            "50000/50000 [==============================] - 2s 43us/step - loss: 1.0984 - acc: 0.6249 - val_loss: 1.4709 - val_acc: 0.4812\n",
            "Epoch 19/50\n",
            "50000/50000 [==============================] - 2s 42us/step - loss: 1.0707 - acc: 0.6351 - val_loss: 1.4681 - val_acc: 0.4815\n",
            "Epoch 20/50\n",
            "50000/50000 [==============================] - 2s 42us/step - loss: 1.0431 - acc: 0.6461 - val_loss: 1.4689 - val_acc: 0.4795\n",
            "Epoch 21/50\n",
            "50000/50000 [==============================] - 2s 42us/step - loss: 1.0158 - acc: 0.6568 - val_loss: 1.4694 - val_acc: 0.4814\n",
            "Epoch 22/50\n",
            "50000/50000 [==============================] - 2s 42us/step - loss: 0.9885 - acc: 0.6673 - val_loss: 1.4720 - val_acc: 0.4824\n",
            "Epoch 23/50\n",
            "50000/50000 [==============================] - 2s 42us/step - loss: 0.9618 - acc: 0.6777 - val_loss: 1.4744 - val_acc: 0.4844\n",
            "Epoch 24/50\n",
            "50000/50000 [==============================] - 2s 42us/step - loss: 0.9354 - acc: 0.6868 - val_loss: 1.4800 - val_acc: 0.4841\n",
            "Epoch 25/50\n",
            "50000/50000 [==============================] - 2s 42us/step - loss: 0.9078 - acc: 0.6988 - val_loss: 1.4799 - val_acc: 0.4853\n",
            "Epoch 26/50\n",
            "50000/50000 [==============================] - 2s 42us/step - loss: 0.8810 - acc: 0.7092 - val_loss: 1.4891 - val_acc: 0.4867\n",
            "Epoch 27/50\n",
            "50000/50000 [==============================] - 2s 42us/step - loss: 0.8547 - acc: 0.7205 - val_loss: 1.4918 - val_acc: 0.4883\n",
            "Epoch 28/50\n",
            "50000/50000 [==============================] - 2s 43us/step - loss: 0.8278 - acc: 0.7292 - val_loss: 1.5015 - val_acc: 0.4871\n",
            "Epoch 29/50\n",
            "50000/50000 [==============================] - 2s 42us/step - loss: 0.8019 - acc: 0.7410 - val_loss: 1.5099 - val_acc: 0.4885\n",
            "Epoch 30/50\n",
            "50000/50000 [==============================] - 2s 42us/step - loss: 0.7757 - acc: 0.7518 - val_loss: 1.5204 - val_acc: 0.4857\n",
            "Epoch 31/50\n",
            "50000/50000 [==============================] - 2s 42us/step - loss: 0.7497 - acc: 0.7611 - val_loss: 1.5324 - val_acc: 0.4866\n",
            "Epoch 32/50\n",
            "50000/50000 [==============================] - 2s 42us/step - loss: 0.7240 - acc: 0.7727 - val_loss: 1.5408 - val_acc: 0.4870\n",
            "Epoch 33/50\n",
            "50000/50000 [==============================] - 2s 42us/step - loss: 0.6981 - acc: 0.7822 - val_loss: 1.5529 - val_acc: 0.4877\n",
            "Epoch 34/50\n",
            "50000/50000 [==============================] - 2s 42us/step - loss: 0.6736 - acc: 0.7922 - val_loss: 1.5682 - val_acc: 0.4874\n",
            "Epoch 35/50\n",
            "50000/50000 [==============================] - 2s 42us/step - loss: 0.6478 - acc: 0.8028 - val_loss: 1.5786 - val_acc: 0.4831\n",
            "Epoch 36/50\n",
            "50000/50000 [==============================] - 2s 42us/step - loss: 0.6242 - acc: 0.8106 - val_loss: 1.5953 - val_acc: 0.4830\n",
            "Epoch 37/50\n",
            "50000/50000 [==============================] - 2s 43us/step - loss: 0.5998 - acc: 0.8216 - val_loss: 1.6116 - val_acc: 0.4859\n",
            "Epoch 38/50\n",
            "50000/50000 [==============================] - 2s 43us/step - loss: 0.5737 - acc: 0.8321 - val_loss: 1.6285 - val_acc: 0.4833\n",
            "Epoch 39/50\n",
            "50000/50000 [==============================] - 2s 42us/step - loss: 0.5512 - acc: 0.8409 - val_loss: 1.6455 - val_acc: 0.4839\n",
            "Epoch 40/50\n",
            "50000/50000 [==============================] - 2s 42us/step - loss: 0.5278 - acc: 0.8494 - val_loss: 1.6622 - val_acc: 0.4814\n",
            "Epoch 41/50\n",
            "50000/50000 [==============================] - 2s 42us/step - loss: 0.5038 - acc: 0.8600 - val_loss: 1.6793 - val_acc: 0.4815\n",
            "Epoch 42/50\n",
            "50000/50000 [==============================] - 2s 42us/step - loss: 0.4827 - acc: 0.8676 - val_loss: 1.7014 - val_acc: 0.4813\n",
            "Epoch 43/50\n",
            "50000/50000 [==============================] - 2s 42us/step - loss: 0.4607 - acc: 0.8757 - val_loss: 1.7199 - val_acc: 0.4808\n",
            "Epoch 44/50\n",
            "50000/50000 [==============================] - 2s 42us/step - loss: 0.4390 - acc: 0.8846 - val_loss: 1.7447 - val_acc: 0.4781\n",
            "Epoch 45/50\n",
            "50000/50000 [==============================] - 2s 42us/step - loss: 0.4188 - acc: 0.8916 - val_loss: 1.7645 - val_acc: 0.4781\n",
            "Epoch 46/50\n",
            "50000/50000 [==============================] - 2s 42us/step - loss: 0.3993 - acc: 0.8984 - val_loss: 1.7906 - val_acc: 0.4802\n",
            "Epoch 47/50\n",
            "50000/50000 [==============================] - 2s 42us/step - loss: 0.3775 - acc: 0.9076 - val_loss: 1.8127 - val_acc: 0.4749\n",
            "Epoch 48/50\n",
            "50000/50000 [==============================] - 2s 42us/step - loss: 0.3583 - acc: 0.9133 - val_loss: 1.8355 - val_acc: 0.4762\n",
            "Epoch 49/50\n",
            "50000/50000 [==============================] - 2s 43us/step - loss: 0.3398 - acc: 0.9196 - val_loss: 1.8668 - val_acc: 0.4731\n",
            "Epoch 50/50\n",
            "50000/50000 [==============================] - 2s 42us/step - loss: 0.3224 - acc: 0.9270 - val_loss: 1.8796 - val_acc: 0.4768\n"
          ],
          "name": "stdout"
        }
      ]
    },
    {
      "metadata": {
        "id": "E0NEdHmwfIB5",
        "colab_type": "code",
        "colab": {
          "base_uri": "https://localhost:8080/",
          "height": 34
        },
        "outputId": "cd098a03-3c97-42ae-eed5-67043d7031c2"
      },
      "cell_type": "code",
      "source": [
        "model.history.history.keys()"
      ],
      "execution_count": 38,
      "outputs": [
        {
          "output_type": "execute_result",
          "data": {
            "text/plain": [
              "dict_keys(['val_loss', 'val_acc', 'loss', 'acc', 'val_tp', 'val_tn'])"
            ]
          },
          "metadata": {
            "tags": []
          },
          "execution_count": 38
        }
      ]
    },
    {
      "metadata": {
        "id": "Nj7uvZQXYkUE",
        "colab_type": "code",
        "colab": {
          "base_uri": "https://localhost:8080/",
          "height": 812
        },
        "outputId": "5ff88efb-1945-4037-e0a2-d62b48251c75"
      },
      "cell_type": "code",
      "source": [
        "import matplotlib.pyplot as plt\n",
        "%matplotlib inline\n",
        "\n",
        "plt.plot(range(len(train_loss)), train_loss, label=\"train loss\")\n",
        "plt.plot(range(len(valid_loss)), valid_loss, label=\"valid loss\")\n",
        "plt.legend()\n",
        "plt.title(\"Loss\")\n",
        "plt.show()\n",
        "\n",
        "plt.plot(range(len(train_acc)), train_acc, label=\"train accuracy\")\n",
        "plt.plot(range(len(valid_acc)), valid_acc, label=\"valid accuracy\")\n",
        "plt.legend()\n",
        "plt.title(\"Accuracy\")\n",
        "plt.show()\n",
        "\n",
        "plt.plot(range(len(valid_tp)), valid_tp, label=\"valid tp\", color=\"navy\")\n",
        "plt.plot(range(len(valid_tn)), valid_tn, label=\"valid tn\", color=\"red\")\n",
        "plt.legend()\n",
        "plt.title(\"True positives and True Negatives\")\n",
        "plt.show()\n"
      ],
      "execution_count": 39,
      "outputs": [
        {
          "output_type": "display_data",
          "data": {
            "image/png": "[encoded data removed]",
            "text/plain": [
              "<Figure size 432x288 with 1 Axes>"
            ]
          },
          "metadata": {
            "tags": []
          }
        },
        {
          "output_type": "display_data",
          "data": {
            "image/png": "[encoded data removed]",
            "text/plain": [
              "<Figure size 432x288 with 1 Axes>"
            ]
          },
          "metadata": {
            "tags": []
          }
        },
        {
          "output_type": "display_data",
          "data": {
            "image/png": "[encoded data removed]",
            "text/plain": [
              "<Figure size 432x288 with 1 Axes>"
            ]
          },
          "metadata": {
            "tags": []
          }
        }
      ]
    }
  ]
}