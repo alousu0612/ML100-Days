{
 "cells": [
  {
   "cell_type": "markdown",
   "metadata": {},
   "source": [
    "## 作業\n",
    "\n",
    "1. 試著調整 RandomForestClassifier(...) 中的參數，並觀察是否會改變結果？\n",
    "2. 改用其他資料集 (boston, wine)，並與回歸模型與決策樹的結果進行比較"
   ]
  },
  {
   "cell_type": "code",
   "execution_count": 49,
   "metadata": {},
   "outputs": [],
   "source": [
    "from sklearn import datasets, metrics, linear_model\n",
    "from sklearn.tree import DecisionTreeRegressor\n",
    "from sklearn.ensemble import RandomForestClassifier, RandomForestRegressor\n",
    "from sklearn.model_selection import train_test_split\n",
    "from sklearn.tree import export_graphviz\n",
    "\n",
    "import matplotlib.pyplot as plt"
   ]
  },
  {
   "cell_type": "markdown",
   "metadata": {},
   "source": [
    "### adjust parameters"
   ]
  },
  {
   "cell_type": "code",
   "execution_count": 50,
   "metadata": {},
   "outputs": [
    {
     "data": {
      "text/plain": [
       "(150, 4)"
      ]
     },
     "execution_count": 50,
     "metadata": {},
     "output_type": "execute_result"
    }
   ],
   "source": [
    "iris.data.shape"
   ]
  },
  {
   "cell_type": "code",
   "execution_count": 55,
   "metadata": {},
   "outputs": [],
   "source": [
    "iris = datasets.load_iris()\n",
    "x_train, x_test, y_train, y_test = train_test_split(iris.data, iris.target, test_size=0.25, stratify=iris.target)\n",
    "clf = RandomForestClassifier(max_features=4, n_estimators=1, min_samples_leaf=5)\n",
    "clf.fit(x_train, y_train)\n",
    "y_pred = clf.predict(x_test)"
   ]
  },
  {
   "cell_type": "code",
   "execution_count": 53,
   "metadata": {},
   "outputs": [
    {
     "name": "stdout",
     "output_type": "stream",
     "text": [
      "Acuuracy:  0.9736842105263158\n",
      "['sepal length (cm)', 'sepal width (cm)', 'petal length (cm)', 'petal width (cm)']\n",
      "Feature importance:  [0.         0.00227523 0.00490924 0.99281553]\n"
     ]
    }
   ],
   "source": [
    "print(\"Acuuracy: \", metrics.accuracy_score(y_test, y_pred))\n",
    "print(iris.feature_names)\n",
    "print(\"Feature importance: \", clf.feature_importances_)"
   ]
  },
  {
   "cell_type": "code",
   "execution_count": 4,
   "metadata": {},
   "outputs": [
    {
     "name": "stdout",
     "output_type": "stream",
     "text": [
      "Acuuracy:  0.9210526315789473\n",
      "['sepal length (cm)', 'sepal width (cm)', 'petal length (cm)', 'petal width (cm)']\n",
      "Feature importance:  [0.10225903 0.01123506 0.44042088 0.44608504]\n"
     ]
    }
   ],
   "source": [
    "### 原本結果(set no parameters)\n",
    "print(\"Acuuracy: \", metrics.accuracy_score(y_test, y_pred))\n",
    "print(iris.feature_names)\n",
    "print(\"Feature importance: \", clf.feature_importances_)"
   ]
  },
  {
   "cell_type": "markdown",
   "metadata": {},
   "source": [
    "### boston datasets(linear)"
   ]
  },
  {
   "cell_type": "code",
   "execution_count": 6,
   "metadata": {},
   "outputs": [],
   "source": [
    "boston = datasets.load_boston()\n",
    "\n",
    "x_train, x_test, y_train, y_test = train_test_split(boston.data, boston.target, test_size=0.15)\n",
    "\n",
    "lr = linear_model.LinearRegression()\n",
    "\n",
    "lr.fit(x_train, y_train)\n",
    "\n",
    "y_pred = lr.predict(x_test)"
   ]
  },
  {
   "cell_type": "code",
   "execution_count": 11,
   "metadata": {},
   "outputs": [
    {
     "name": "stdout",
     "output_type": "stream",
     "text": [
      "MAE: 3.5609\n",
      "\n",
      "MSE: 24.3637\n",
      "\n",
      "R-Squared: 0.6686\n"
     ]
    }
   ],
   "source": [
    "print('MAE: {:.4f}'.format(metrics.mean_absolute_error(y_test, y_pred)))\n",
    "print('\\nMSE: {:.4f}'.format(metrics.mean_squared_error(y_test, y_pred)))\n",
    "print('\\nR-Squared: {:.4f}'.format(metrics.r2_score(y_test, y_pred)))"
   ]
  },
  {
   "cell_type": "code",
   "execution_count": 15,
   "metadata": {},
   "outputs": [
    {
     "name": "stdout",
     "output_type": "stream",
     "text": [
      "MAE: 4.0134\n",
      "Mean Squared Error: 29.0712\n",
      "R-Squared: 0.6046\n"
     ]
    }
   ],
   "source": [
    "lasso = linear_model.Lasso(alpha=1.0)\n",
    "lasso.fit(x_train, y_train)\n",
    "y_pred = lasso.predict(x_test)\n",
    "print('MAE: {:.4f}'.format(metrics.mean_absolute_error(y_test, y_pred)))\n",
    "print(\"Mean Squared Error: {:.4f}\".format(metrics.mean_squared_error(y_test, y_pred)))\n",
    "print(\"R-Squared: {:.4f}\".format(metrics.r2_score(y_test, y_pred)))"
   ]
  },
  {
   "cell_type": "code",
   "execution_count": 16,
   "metadata": {
    "scrolled": true
   },
   "outputs": [
    {
     "name": "stdout",
     "output_type": "stream",
     "text": [
      "MAE: 3.5970\n",
      "Mean Squared Error: 24.9236\n",
      "R-Squared: 0.6610\n"
     ]
    }
   ],
   "source": [
    "ridge = linear_model.Ridge(alpha=1.0)\n",
    "ridge.fit(x_train, y_train)\n",
    "y_pred = ridge.predict(x_test)\n",
    "print('MAE: {:.4f}'.format(metrics.mean_absolute_error(y_test, y_pred)))\n",
    "print(\"Mean Squared Error: {:.4f}\".format(metrics.mean_squared_error(y_test, y_pred)))\n",
    "print(\"R-Squared: {:.4f}\".format(metrics.r2_score(y_test, y_pred)))"
   ]
  },
  {
   "cell_type": "markdown",
   "metadata": {},
   "source": [
    "### boston dataset (Decision tree)"
   ]
  },
  {
   "cell_type": "code",
   "execution_count": 19,
   "metadata": {},
   "outputs": [
    {
     "name": "stdout",
     "output_type": "stream",
     "text": [
      "MAE: 3.1513\n",
      "\n",
      "MSE: 21.4057\n",
      "\n",
      "R-Squared: 0.7089\n",
      "\n",
      "['CRIM' 'ZN' 'INDUS' 'CHAS' 'NOX' 'RM' 'AGE' 'DIS' 'RAD' 'TAX' 'PTRATIO'\n",
      " 'B' 'LSTAT']\n",
      "feature importance:\n",
      "[0.01686153 0.00221434 0.00449672 0.         0.02145438 0.28064728\n",
      " 0.01505254 0.08948327 0.00074066 0.00635421 0.01319531 0.00966186\n",
      " 0.53983791]\n"
     ]
    }
   ],
   "source": [
    "regr = DecisionTreeRegressor()\n",
    "regr.fit(x_train, y_train)\n",
    "y_pred = regr.predict(x_test)\n",
    "print('MAE: {:.4f}'.format(metrics.mean_absolute_error(y_test, y_pred)))\n",
    "print('\\nMSE: {:.4f}'.format(metrics.mean_squared_error(y_test, y_pred)))\n",
    "print('\\nR-Squared: {:.4f}'.format(metrics.r2_score(y_test, y_pred)))\n",
    "print('\\n{}'.format(boston.feature_names))\n",
    "print('feature importance:\\n{}'.format(regr.feature_importances_))"
   ]
  },
  {
   "cell_type": "markdown",
   "metadata": {},
   "source": [
    "### boston dataset (Random Forest)"
   ]
  },
  {
   "cell_type": "code",
   "execution_count": 22,
   "metadata": {},
   "outputs": [
    {
     "name": "stdout",
     "output_type": "stream",
     "text": [
      "MAE: 2.3330\n",
      "\n",
      "MSE: 13.5101\n",
      "\n",
      "R-Squared: 0.8163\n",
      "\n",
      "['CRIM' 'ZN' 'INDUS' 'CHAS' 'NOX' 'RM' 'AGE' 'DIS' 'RAD' 'TAX' 'PTRATIO'\n",
      " 'B' 'LSTAT']\n",
      "feature importance:\n",
      "[0.02179638 0.00073069 0.00285173 0.00086535 0.03329353 0.45623565\n",
      " 0.01214152 0.07834872 0.00244486 0.00972573 0.01115636 0.01544506\n",
      " 0.35496442]\n"
     ]
    }
   ],
   "source": [
    "rf = RandomForestRegressor()\n",
    "rf.fit(x_train, y_train)\n",
    "y_pred = rf.predict(x_test)\n",
    "print('MAE: {:.4f}'.format(metrics.mean_absolute_error(y_test, y_pred)))\n",
    "print('\\nMSE: {:.4f}'.format(metrics.mean_squared_error(y_test, y_pred)))\n",
    "print('\\nR-Squared: {:.4f}'.format(metrics.r2_score(y_test, y_pred)))\n",
    "print('\\n{}'.format(boston.feature_names))\n",
    "print('feature importance:\\n{}'.format(rf.feature_importances_))"
   ]
  },
  {
   "cell_type": "code",
   "execution_count": null,
   "metadata": {},
   "outputs": [],
   "source": []
  }
 ],
 "metadata": {
  "kernelspec": {
   "display_name": "Python 3",
   "language": "python",
   "name": "python3"
  },
  "language_info": {
   "codemirror_mode": {
    "name": "ipython",
    "version": 3
   },
   "file_extension": ".py",
   "mimetype": "text/x-python",
   "name": "python",
   "nbconvert_exporter": "python",
   "pygments_lexer": "ipython3",
   "version": "3.6.4"
  }
 },
 "nbformat": 4,
 "nbformat_minor": 2
}
