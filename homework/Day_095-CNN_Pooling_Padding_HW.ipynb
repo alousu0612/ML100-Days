{
 "cells": [
  {
   "cell_type": "markdown",
   "metadata": {},
   "source": [
    "# 教學目標:\n",
    "    了解 Padding 的作法\n",
    "    \n",
    "    了解 Pooling 的作法"
   ]
  },
  {
   "cell_type": "markdown",
   "metadata": {},
   "source": [
    "# 範例說明:\n",
    "    (1)zero_pad - feature map 跟原圖的比對\n",
    "    \n",
    "    (2)pool_forward - 前行網路的 pooling layer"
   ]
  },
  {
   "cell_type": "markdown",
   "metadata": {},
   "source": [
    "# 作業:\n",
    "    (1) 調整Padding 的設定, 看 Pad 後的結果\n",
    "    \n",
    "    (2) 調整Pooling 的設定, 看 Poolin 後的結果"
   ]
  },
  {
   "cell_type": "code",
   "execution_count": 3,
   "metadata": {},
   "outputs": [
    {
     "name": "stdout",
     "output_type": "stream",
     "text": [
      "The autoreload extension is already loaded. To reload it, use:\n",
      "  %reload_ext autoreload\n"
     ]
    }
   ],
   "source": [
    "import numpy as np\n",
    "import h5py\n",
    "import matplotlib.pyplot as plt\n",
    "\n",
    "# 繪圖結果直接顯示在Jupyter cell 之內\n",
    "%matplotlib inline  \n",
    "plt.rcParams['figure.figsize'] = (5.0, 4.0) #  設定繪圖板的大小\n",
    "plt.rcParams['image.interpolation'] = 'nearest'\n",
    "plt.rcParams['image.cmap'] = 'gray'\n",
    "\n",
    "# autoreload。可以讓我們不退出IPython就動態修改代碼，在執行代碼前IPython會幫我們自動重載改動的模塊\n",
    "%load_ext autoreload\n",
    "%autoreload 2\n",
    "np.random.seed(1)"
   ]
  },
  {
   "cell_type": "code",
   "execution_count": 2,
   "metadata": {},
   "outputs": [],
   "source": [
    "# GRADED FUNCTION: zero_pad\n",
    "def zero_pad(X, pad):\n",
    "    \"\"\"\n",
    "    對image X 做 zero-padding. \n",
    "    參數定義如下:\n",
    "    X -- python numpy array, 呈現維度 (m, n_H, n_W, n_C), 代表一批 m 個圖像\n",
    "         n_H: 圖高, n_W: 圖寬, n_C: color channels 數\n",
    "    pad -- 整數, 加幾圈的 zero padding.\n",
    "    Returns:\n",
    "    X_pad -- image of shape (m, n_H + 2*pad, n_W + 2*pad, n_C) 做完zero-padding 的結果\n",
    "    \"\"\"\n",
    "    \n",
    "    X_pad = np.pad(X, ((0, 0), (pad, pad), (pad, pad), (0, 0)), 'constant', constant_values=(0, 0))\n",
    "  \n",
    "    return X_pad"
   ]
  },
  {
   "cell_type": "code",
   "execution_count": 4,
   "metadata": {},
   "outputs": [
    {
     "name": "stdout",
     "output_type": "stream",
     "text": [
      "x.shape = (6, 6, 6, 3)\n",
      "x_pad.shape = (6, 8, 8, 3)\n",
      "x[1,1] = [[ 1.62765075  0.3380117  -1.19926803]\n",
      " [ 0.86334532 -0.1809203  -0.60392063]\n",
      " [-1.23005814  0.5505375   0.79280687]\n",
      " [-0.62353073  0.52057634 -1.14434139]\n",
      " [ 0.80186103  0.0465673  -0.18656977]\n",
      " [-0.10174587  0.86888616  0.75041164]]\n",
      "x_pad[1,1] = [[ 0.          0.          0.        ]\n",
      " [-0.26621851  0.03261455 -1.37311732]\n",
      " [ 0.31515939  0.84616065 -0.85951594]\n",
      " [ 0.35054598 -1.31228341 -0.03869551]\n",
      " [-1.61577235  1.12141771  0.40890054]\n",
      " [-0.02461696 -0.77516162  1.27375593]\n",
      " [ 1.96710175 -1.85798186  1.23616403]\n",
      " [ 0.          0.          0.        ]]\n"
     ]
    },
    {
     "data": {
      "text/plain": [
       "<matplotlib.image.AxesImage at 0x1d9c41f8630>"
      ]
     },
     "execution_count": 4,
     "metadata": {},
     "output_type": "execute_result"
    },
    {
     "data": {
      "image/png": "[encoded data removed]",
      "text/plain": [
       "<Figure size 360x288 with 2 Axes>"
      ]
     },
     "metadata": {
      "needs_background": "light"
     },
     "output_type": "display_data"
    }
   ],
   "source": [
    "\n",
    "np.random.seed(1)\n",
    "\n",
    "x = np.random.randn(6, 6, 6, 3)\n",
    "x_pad = zero_pad(x, 1)\n",
    "\n",
    "\n",
    "print (\"x.shape =\", x.shape)\n",
    "print (\"x_pad.shape =\", x_pad.shape)\n",
    "print (\"x[1,1] =\", x[1,1])\n",
    "print (\"x_pad[1,1] =\", x_pad[1,1])\n",
    "fig, axarr = plt.subplots(1, 2)\n",
    "axarr[0].set_title('x')\n",
    "axarr[0].imshow(x[0,:,:,0])\n",
    "axarr[1].set_title('x_pad')\n",
    "axarr[1].imshow(x_pad[0,:,:,0])"
   ]
  },
  {
   "cell_type": "code",
   "execution_count": 5,
   "metadata": {},
   "outputs": [],
   "source": [
    "# GRADED FUNCTION: pool_forward\n",
    "def pool_forward(A_prev, hparameters, mode = \"max\"):\n",
    "    \"\"\"\n",
    "    設計一個前行網路的池化層\n",
    "    參數定義如下:\n",
    "    A_prev -- 輸入的numpy 陣列, 維度 (m, n_H_prev, n_W_prev, n_C_prev)\n",
    "    hparameter 超參數 --  \"f\" and \"stride\" 所形成的python 字典\n",
    "    mode -- 池化的模式: \"max\" or \"average\"\n",
    "    \n",
    "    返回:\n",
    "        A -- 輸出的池化層, 維度為 (m, n_H, n_W, n_C) 的 numpy 陣列\n",
    "        cache -- 可以應用在 backward pass pooling layer 資料, 包含 input and hparameter\n",
    "    \"\"\"\n",
    "\n",
    "    # 檢索尺寸 from the input shape\n",
    "    (m, n_H_prev, n_W_prev, n_C_prev) = A_prev.shape\n",
    " \n",
    "    # 檢索超參數 from \"hparameters\"\n",
    "    f = hparameters[\"f\"]\n",
    "    stride = hparameters[\"stride\"]\n",
    "\n",
    "    # 定義輸出的dimensions\n",
    "    n_H = int(1 + (n_H_prev - f) / stride)\n",
    "    n_W = int(1 + (n_W_prev - f) / stride)\n",
    "    n_C = n_C_prev\n",
    "\n",
    "    # 初始化輸出的 matrix A\n",
    "    A = np.zeros((m, n_H, n_W, n_C))\n",
    "\n",
    "    ### 程式起始位置  ###\n",
    "    for i in range(m): # 訓練樣本的for 迴圈\n",
    "        for h in range(n_H): # 輸出樣本的for 迴圈, 針對vertical axis\n",
    "            for w in range(n_W): #  輸出樣本的for 迴圈, 針對 horizontal axis\n",
    "                for c in range (n_C): #  輸出樣本的for 迴圈, 針對channels\n",
    "\n",
    "                     # 找出特徵圖的寬度跟高度四個點\n",
    "                    vert_start = h * stride\n",
    "                    vert_end = h * stride+ f\n",
    "                    horiz_start = w * stride\n",
    "                    horiz_end = w * stride + f\n",
    "\n",
    "                    # 定義第i個訓練示例\n",
    "                    a_prev_slice = A_prev[i, vert_start:vert_end, horiz_start:horiz_end,c]\n",
    "\n",
    "                    # 計算輸入data 的池化結果. 使用 if statment 去做分類\n",
    "                    if mode == \"max\":\n",
    "                        A[i, h, w, c] = np.max(a_prev_slice)\n",
    "                    elif mode == \"average\":\n",
    "                        A[i, h, w, c] = np.mean(a_prev_slice)\n",
    "\n",
    "                        ### 程式結束  ###\n",
    "    \n",
    "    # 儲存輸入的特徵圖跟所設定的超參數, 可以用在 pool_backward()\n",
    "    cache = (A_prev, hparameters)\n",
    "    \n",
    "    # 確認輸出的資料維度\n",
    "    assert(A.shape == (m, n_H, n_W, n_C))\n",
    "    return A, cache"
   ]
  },
  {
   "cell_type": "code",
   "execution_count": 7,
   "metadata": {},
   "outputs": [
    {
     "name": "stdout",
     "output_type": "stream",
     "text": [
      "mode = max\n",
      "A = [[[[1.74481176 1.6924546  1.65980218]\n",
      "   [1.74481176 1.6924546  2.10025514]\n",
      "   [1.74481176 1.6924546  2.10025514]\n",
      "   [0.12015895 1.46210794 2.10025514]]\n",
      "\n",
      "  [[1.14472371 1.6924546  1.65980218]\n",
      "   [1.14472371 1.6924546  2.10025514]\n",
      "   [1.13162939 1.6924546  2.18557541]\n",
      "   [1.13162939 1.51981682 2.18557541]]\n",
      "\n",
      "  [[0.93110208 1.6924546  1.65980218]\n",
      "   [0.93110208 1.6924546  2.10025514]\n",
      "   [1.13162939 1.6924546  2.18557541]\n",
      "   [1.13162939 1.51981682 2.18557541]]\n",
      "\n",
      "  [[1.19891788 1.25286816 0.88514116]\n",
      "   [0.93110208 1.25286816 1.2245077 ]\n",
      "   [1.13162939 1.51981682 2.18557541]\n",
      "   [1.13162939 1.51981682 2.18557541]]]\n",
      "\n",
      "\n",
      " [[[1.62765075 0.84616065 1.0388246 ]\n",
      "   [2.18697965 1.12141771 1.0388246 ]\n",
      "   [2.18697965 1.12141771 1.27375593]\n",
      "   [2.18697965 1.12141771 1.27375593]]\n",
      "\n",
      "  [[2.19069973 0.98633519 1.0388246 ]\n",
      "   [2.19069973 2.52832571 1.0388246 ]\n",
      "   [2.19069973 2.52832571 1.33145711]\n",
      "   [2.18697965 2.52832571 1.33145711]]\n",
      "\n",
      "  [[2.19069973 0.98633519 1.0388246 ]\n",
      "   [2.19069973 2.52832571 1.0388246 ]\n",
      "   [2.19069973 2.52832571 1.33145711]\n",
      "   [2.18697965 2.52832571 1.33145711]]\n",
      "\n",
      "  [[2.19069973 1.04444209 1.95487808]\n",
      "   [2.19069973 2.52832571 1.9560789 ]\n",
      "   [2.19069973 2.52832571 1.9560789 ]\n",
      "   [1.90465871 2.52832571 1.9560789 ]]]]\n",
      "\n",
      "mode = average\n",
      "A = [[[[ 0.36239527  0.22535079 -0.26763394]\n",
      "   [ 0.09890813  0.35642422 -0.20769409]\n",
      "   [-0.09083834  0.16322782  0.17379929]\n",
      "   [-0.55704458 -0.08496244  0.0085968 ]]\n",
      "\n",
      "  [[ 0.10368654  0.51786572  0.25989114]\n",
      "   [ 0.03847908  0.40760922  0.38843253]\n",
      "   [-0.21238118  0.49037854  0.5327177 ]\n",
      "   [-0.43385357 -0.12289624  0.38745986]]\n",
      "\n",
      "  [[-0.30963155  0.57689883  0.44236853]\n",
      "   [-0.30626256  0.48454186  0.40018126]\n",
      "   [-0.10635778  0.7588175   0.51013644]\n",
      "   [-0.11743788  0.07302365  0.50283265]]\n",
      "\n",
      "  [[-0.16088063  0.45658915  0.24893224]\n",
      "   [-0.26653392  0.29881165  0.33556048]\n",
      "   [ 0.11827167  0.50209235  0.18328775]\n",
      "   [ 0.12033908  0.20873543  0.18336737]]]\n",
      "\n",
      "\n",
      " [[[ 0.27757262 -0.19894681 -0.16472371]\n",
      "   [ 0.06165918 -0.02394337  0.01960608]\n",
      "   [-0.06679478 -0.21787486  0.22910394]\n",
      "   [ 0.14797923 -0.03005335  0.1398387 ]]\n",
      "\n",
      "  [[ 0.48482916 -0.28485333  0.09451599]\n",
      "   [ 0.49138701  0.08305719 -0.00180577]\n",
      "   [ 0.42494955 -0.0654662   0.09487557]\n",
      "   [ 0.18477207  0.46925854 -0.0996946 ]]\n",
      "\n",
      "  [[ 0.40955031 -0.31416346  0.22527928]\n",
      "   [ 0.79951121  0.12754998  0.10799988]\n",
      "   [ 0.80784232  0.08947282  0.30013245]\n",
      "   [ 0.19894132  0.62900129  0.12578587]]\n",
      "\n",
      "  [[ 0.35013662 -0.22682011  0.01462166]\n",
      "   [ 0.3668729  -0.05924231  0.17900154]\n",
      "   [ 0.33123955 -0.14496632  0.35165043]\n",
      "   [-0.10462482  0.23968348  0.68423847]]]]\n"
     ]
    }
   ],
   "source": [
    "\n",
    "np.random.seed(1)\n",
    "A_prev = np.random.randn(2, 6, 6, 3)\n",
    "hparameters = {\"stride\": 1, \"f\": 3}\n",
    "\n",
    "\n",
    "A, cache = pool_forward(A_prev, hparameters)\n",
    "print(\"mode = max\")\n",
    "print(\"A =\", A)\n",
    "print()\n",
    "A, cache = pool_forward(A_prev, hparameters, mode = \"average\")\n",
    "print(\"mode = average\")\n",
    "print(\"A =\", A)"
   ]
  },
  {
   "cell_type": "code",
   "execution_count": null,
   "metadata": {},
   "outputs": [],
   "source": []
  }
 ],
 "metadata": {
  "kernelspec": {
   "display_name": "Python 3",
   "language": "python",
   "name": "python3"
  },
  "language_info": {
   "codemirror_mode": {
    "name": "ipython",
    "version": 3
   },
   "file_extension": ".py",
   "mimetype": "text/x-python",
   "name": "python",
   "nbconvert_exporter": "python",
   "pygments_lexer": "ipython3",
   "version": "3.6.8"
  }
 },
 "nbformat": 4,
 "nbformat_minor": 2
}
