{
 "cells": [
  {
   "cell_type": "code",
   "execution_count": 27,
   "metadata": {},
   "outputs": [],
   "source": [
    "import numpy as np # linear algebra\n",
    "import pandas as pd # data preprocessing, .csv file I/O\n",
    "import matplotlib.pyplot as plt\n",
    "plt.style.use('ggplot')\n",
    "import seaborn as sns\n",
    "\n",
    "from pprint import pprint"
   ]
  },
  {
   "cell_type": "code",
   "execution_count": 16,
   "metadata": {},
   "outputs": [],
   "source": [
    "train = pd.read_csv('./data/train.csv', header=None)\n",
    "train_label = pd.read_csv('./data/trainLabels.csv', header=None)\n",
    "test = pd.read_csv('./data/test.csv', header=None)"
   ]
  },
  {
   "cell_type": "code",
   "execution_count": 17,
   "metadata": {},
   "outputs": [
    {
     "name": "stdout",
     "output_type": "stream",
     "text": [
      "train shape: (1000, 40)\n",
      "test shape: (9000, 40)\n",
      "train_label shape: (1000, 1)\n"
     ]
    }
   ],
   "source": [
    "print('train shape: {}'.format(train.shape))\n",
    "print('test shape: {}'.format(test.shape))\n",
    "print('train_label shape: {}'.format(train_label.shape))"
   ]
  },
  {
   "cell_type": "code",
   "execution_count": 18,
   "metadata": {
    "collapsed": true
   },
   "outputs": [
    {
     "name": "stdout",
     "output_type": "stream",
     "text": [
      "<class 'pandas.core.frame.DataFrame'>\n",
      "RangeIndex: 1000 entries, 0 to 999\n",
      "Data columns (total 40 columns):\n",
      "0     1000 non-null float64\n",
      "1     1000 non-null float64\n",
      "2     1000 non-null float64\n",
      "3     1000 non-null float64\n",
      "4     1000 non-null float64\n",
      "5     1000 non-null float64\n",
      "6     1000 non-null float64\n",
      "7     1000 non-null float64\n",
      "8     1000 non-null float64\n",
      "9     1000 non-null float64\n",
      "10    1000 non-null float64\n",
      "11    1000 non-null float64\n",
      "12    1000 non-null float64\n",
      "13    1000 non-null float64\n",
      "14    1000 non-null float64\n",
      "15    1000 non-null float64\n",
      "16    1000 non-null float64\n",
      "17    1000 non-null float64\n",
      "18    1000 non-null float64\n",
      "19    1000 non-null float64\n",
      "20    1000 non-null float64\n",
      "21    1000 non-null float64\n",
      "22    1000 non-null float64\n",
      "23    1000 non-null float64\n",
      "24    1000 non-null float64\n",
      "25    1000 non-null float64\n",
      "26    1000 non-null float64\n",
      "27    1000 non-null float64\n",
      "28    1000 non-null float64\n",
      "29    1000 non-null float64\n",
      "30    1000 non-null float64\n",
      "31    1000 non-null float64\n",
      "32    1000 non-null float64\n",
      "33    1000 non-null float64\n",
      "34    1000 non-null float64\n",
      "35    1000 non-null float64\n",
      "36    1000 non-null float64\n",
      "37    1000 non-null float64\n",
      "38    1000 non-null float64\n",
      "39    1000 non-null float64\n",
      "dtypes: float64(40)\n",
      "memory usage: 312.6 KB\n"
     ]
    }
   ],
   "source": [
    "train.info()"
   ]
  },
  {
   "cell_type": "code",
   "execution_count": 20,
   "metadata": {
    "collapsed": true
   },
   "outputs": [
    {
     "data": {
      "text/html": [
       "<div>\n",
       "<style scoped>\n",
       "    .dataframe tbody tr th:only-of-type {\n",
       "        vertical-align: middle;\n",
       "    }\n",
       "\n",
       "    .dataframe tbody tr th {\n",
       "        vertical-align: top;\n",
       "    }\n",
       "\n",
       "    .dataframe thead th {\n",
       "        text-align: right;\n",
       "    }\n",
       "</style>\n",
       "<table border=\"1\" class=\"dataframe\">\n",
       "  <thead>\n",
       "    <tr style=\"text-align: right;\">\n",
       "      <th></th>\n",
       "      <th>0</th>\n",
       "      <th>1</th>\n",
       "      <th>2</th>\n",
       "      <th>3</th>\n",
       "      <th>4</th>\n",
       "      <th>5</th>\n",
       "      <th>6</th>\n",
       "      <th>7</th>\n",
       "      <th>8</th>\n",
       "      <th>9</th>\n",
       "      <th>...</th>\n",
       "      <th>30</th>\n",
       "      <th>31</th>\n",
       "      <th>32</th>\n",
       "      <th>33</th>\n",
       "      <th>34</th>\n",
       "      <th>35</th>\n",
       "      <th>36</th>\n",
       "      <th>37</th>\n",
       "      <th>38</th>\n",
       "      <th>39</th>\n",
       "    </tr>\n",
       "  </thead>\n",
       "  <tbody>\n",
       "    <tr>\n",
       "      <th>count</th>\n",
       "      <td>1000.000000</td>\n",
       "      <td>1000.000000</td>\n",
       "      <td>1000.000000</td>\n",
       "      <td>1000.000000</td>\n",
       "      <td>1000.000000</td>\n",
       "      <td>1000.000000</td>\n",
       "      <td>1000.000000</td>\n",
       "      <td>1000.000000</td>\n",
       "      <td>1000.000000</td>\n",
       "      <td>1000.000000</td>\n",
       "      <td>...</td>\n",
       "      <td>1000.000000</td>\n",
       "      <td>1000.000000</td>\n",
       "      <td>1000.000000</td>\n",
       "      <td>1000.000000</td>\n",
       "      <td>1000.000000</td>\n",
       "      <td>1000.000000</td>\n",
       "      <td>1000.000000</td>\n",
       "      <td>1000.000000</td>\n",
       "      <td>1000.000000</td>\n",
       "      <td>1000.000000</td>\n",
       "    </tr>\n",
       "    <tr>\n",
       "      <th>mean</th>\n",
       "      <td>0.025596</td>\n",
       "      <td>-0.024526</td>\n",
       "      <td>-0.024088</td>\n",
       "      <td>-0.002271</td>\n",
       "      <td>1.092329</td>\n",
       "      <td>-0.006250</td>\n",
       "      <td>0.497342</td>\n",
       "      <td>-0.037883</td>\n",
       "      <td>0.026391</td>\n",
       "      <td>-0.003597</td>\n",
       "      <td>...</td>\n",
       "      <td>0.030651</td>\n",
       "      <td>0.022951</td>\n",
       "      <td>-0.542491</td>\n",
       "      <td>-0.011608</td>\n",
       "      <td>-0.483507</td>\n",
       "      <td>0.033371</td>\n",
       "      <td>0.567185</td>\n",
       "      <td>0.006849</td>\n",
       "      <td>-0.892659</td>\n",
       "      <td>0.609451</td>\n",
       "    </tr>\n",
       "    <tr>\n",
       "      <th>std</th>\n",
       "      <td>1.008282</td>\n",
       "      <td>1.016298</td>\n",
       "      <td>0.979109</td>\n",
       "      <td>0.970575</td>\n",
       "      <td>4.538834</td>\n",
       "      <td>0.989128</td>\n",
       "      <td>2.118819</td>\n",
       "      <td>2.232256</td>\n",
       "      <td>1.001064</td>\n",
       "      <td>1.013520</td>\n",
       "      <td>...</td>\n",
       "      <td>1.011645</td>\n",
       "      <td>1.001375</td>\n",
       "      <td>2.239939</td>\n",
       "      <td>1.022456</td>\n",
       "      <td>2.121281</td>\n",
       "      <td>1.007044</td>\n",
       "      <td>2.227876</td>\n",
       "      <td>0.997635</td>\n",
       "      <td>2.022022</td>\n",
       "      <td>2.045439</td>\n",
       "    </tr>\n",
       "    <tr>\n",
       "      <th>min</th>\n",
       "      <td>-3.365711</td>\n",
       "      <td>-3.492086</td>\n",
       "      <td>-2.695602</td>\n",
       "      <td>-3.460471</td>\n",
       "      <td>-16.421901</td>\n",
       "      <td>-3.041250</td>\n",
       "      <td>-7.224761</td>\n",
       "      <td>-6.509084</td>\n",
       "      <td>-3.145588</td>\n",
       "      <td>-2.749812</td>\n",
       "      <td>...</td>\n",
       "      <td>-3.379194</td>\n",
       "      <td>-2.971125</td>\n",
       "      <td>-7.840890</td>\n",
       "      <td>-2.999564</td>\n",
       "      <td>-7.124105</td>\n",
       "      <td>-2.952358</td>\n",
       "      <td>-5.452254</td>\n",
       "      <td>-3.473913</td>\n",
       "      <td>-8.051722</td>\n",
       "      <td>-7.799086</td>\n",
       "    </tr>\n",
       "    <tr>\n",
       "      <th>25%</th>\n",
       "      <td>-0.669010</td>\n",
       "      <td>-0.693937</td>\n",
       "      <td>-0.698830</td>\n",
       "      <td>-0.617557</td>\n",
       "      <td>-1.801997</td>\n",
       "      <td>-0.732265</td>\n",
       "      <td>-0.838619</td>\n",
       "      <td>-1.604037</td>\n",
       "      <td>-0.677562</td>\n",
       "      <td>-0.682220</td>\n",
       "      <td>...</td>\n",
       "      <td>-0.659457</td>\n",
       "      <td>-0.696032</td>\n",
       "      <td>-2.121943</td>\n",
       "      <td>-0.664550</td>\n",
       "      <td>-1.879247</td>\n",
       "      <td>-0.642861</td>\n",
       "      <td>-1.059786</td>\n",
       "      <td>-0.691162</td>\n",
       "      <td>-2.220126</td>\n",
       "      <td>-0.565041</td>\n",
       "    </tr>\n",
       "    <tr>\n",
       "      <th>50%</th>\n",
       "      <td>0.027895</td>\n",
       "      <td>-0.033194</td>\n",
       "      <td>0.008145</td>\n",
       "      <td>0.002327</td>\n",
       "      <td>0.862818</td>\n",
       "      <td>0.027041</td>\n",
       "      <td>0.582321</td>\n",
       "      <td>0.018809</td>\n",
       "      <td>0.022092</td>\n",
       "      <td>-0.036110</td>\n",
       "      <td>...</td>\n",
       "      <td>0.049416</td>\n",
       "      <td>0.049778</td>\n",
       "      <td>-0.568262</td>\n",
       "      <td>-0.028097</td>\n",
       "      <td>-0.493575</td>\n",
       "      <td>0.037732</td>\n",
       "      <td>0.455474</td>\n",
       "      <td>0.038284</td>\n",
       "      <td>-0.855470</td>\n",
       "      <td>0.779944</td>\n",
       "    </tr>\n",
       "    <tr>\n",
       "      <th>75%</th>\n",
       "      <td>0.762520</td>\n",
       "      <td>0.682753</td>\n",
       "      <td>0.661434</td>\n",
       "      <td>0.640743</td>\n",
       "      <td>3.843172</td>\n",
       "      <td>0.671456</td>\n",
       "      <td>1.913664</td>\n",
       "      <td>1.438304</td>\n",
       "      <td>0.741310</td>\n",
       "      <td>0.665364</td>\n",
       "      <td>...</td>\n",
       "      <td>0.747031</td>\n",
       "      <td>0.699917</td>\n",
       "      <td>0.939348</td>\n",
       "      <td>0.651374</td>\n",
       "      <td>1.005795</td>\n",
       "      <td>0.691800</td>\n",
       "      <td>2.122157</td>\n",
       "      <td>0.693535</td>\n",
       "      <td>0.388698</td>\n",
       "      <td>1.992193</td>\n",
       "    </tr>\n",
       "    <tr>\n",
       "      <th>max</th>\n",
       "      <td>3.326246</td>\n",
       "      <td>3.583870</td>\n",
       "      <td>2.546507</td>\n",
       "      <td>3.088738</td>\n",
       "      <td>17.565345</td>\n",
       "      <td>3.102997</td>\n",
       "      <td>7.592666</td>\n",
       "      <td>7.130097</td>\n",
       "      <td>3.145258</td>\n",
       "      <td>3.919426</td>\n",
       "      <td>...</td>\n",
       "      <td>2.844792</td>\n",
       "      <td>3.688047</td>\n",
       "      <td>7.160379</td>\n",
       "      <td>3.353631</td>\n",
       "      <td>6.005818</td>\n",
       "      <td>3.420561</td>\n",
       "      <td>6.603499</td>\n",
       "      <td>3.492548</td>\n",
       "      <td>5.774120</td>\n",
       "      <td>6.803984</td>\n",
       "    </tr>\n",
       "  </tbody>\n",
       "</table>\n",
       "<p>8 rows × 40 columns</p>\n",
       "</div>"
      ],
      "text/plain": [
       "                0            1            2            3            4   \\\n",
       "count  1000.000000  1000.000000  1000.000000  1000.000000  1000.000000   \n",
       "mean      0.025596    -0.024526    -0.024088    -0.002271     1.092329   \n",
       "std       1.008282     1.016298     0.979109     0.970575     4.538834   \n",
       "min      -3.365711    -3.492086    -2.695602    -3.460471   -16.421901   \n",
       "25%      -0.669010    -0.693937    -0.698830    -0.617557    -1.801997   \n",
       "50%       0.027895    -0.033194     0.008145     0.002327     0.862818   \n",
       "75%       0.762520     0.682753     0.661434     0.640743     3.843172   \n",
       "max       3.326246     3.583870     2.546507     3.088738    17.565345   \n",
       "\n",
       "                5            6            7            8            9   \\\n",
       "count  1000.000000  1000.000000  1000.000000  1000.000000  1000.000000   \n",
       "mean     -0.006250     0.497342    -0.037883     0.026391    -0.003597   \n",
       "std       0.989128     2.118819     2.232256     1.001064     1.013520   \n",
       "min      -3.041250    -7.224761    -6.509084    -3.145588    -2.749812   \n",
       "25%      -0.732265    -0.838619    -1.604037    -0.677562    -0.682220   \n",
       "50%       0.027041     0.582321     0.018809     0.022092    -0.036110   \n",
       "75%       0.671456     1.913664     1.438304     0.741310     0.665364   \n",
       "max       3.102997     7.592666     7.130097     3.145258     3.919426   \n",
       "\n",
       "          ...                30           31           32           33  \\\n",
       "count     ...       1000.000000  1000.000000  1000.000000  1000.000000   \n",
       "mean      ...          0.030651     0.022951    -0.542491    -0.011608   \n",
       "std       ...          1.011645     1.001375     2.239939     1.022456   \n",
       "min       ...         -3.379194    -2.971125    -7.840890    -2.999564   \n",
       "25%       ...         -0.659457    -0.696032    -2.121943    -0.664550   \n",
       "50%       ...          0.049416     0.049778    -0.568262    -0.028097   \n",
       "75%       ...          0.747031     0.699917     0.939348     0.651374   \n",
       "max       ...          2.844792     3.688047     7.160379     3.353631   \n",
       "\n",
       "                34           35           36           37           38  \\\n",
       "count  1000.000000  1000.000000  1000.000000  1000.000000  1000.000000   \n",
       "mean     -0.483507     0.033371     0.567185     0.006849    -0.892659   \n",
       "std       2.121281     1.007044     2.227876     0.997635     2.022022   \n",
       "min      -7.124105    -2.952358    -5.452254    -3.473913    -8.051722   \n",
       "25%      -1.879247    -0.642861    -1.059786    -0.691162    -2.220126   \n",
       "50%      -0.493575     0.037732     0.455474     0.038284    -0.855470   \n",
       "75%       1.005795     0.691800     2.122157     0.693535     0.388698   \n",
       "max       6.005818     3.420561     6.603499     3.492548     5.774120   \n",
       "\n",
       "                39  \n",
       "count  1000.000000  \n",
       "mean      0.609451  \n",
       "std       2.045439  \n",
       "min      -7.799086  \n",
       "25%      -0.565041  \n",
       "50%       0.779944  \n",
       "75%       1.992193  \n",
       "max       6.803984  \n",
       "\n",
       "[8 rows x 40 columns]"
      ]
     },
     "execution_count": 20,
     "metadata": {},
     "output_type": "execute_result"
    }
   ],
   "source": [
    "train.describe()"
   ]
  },
  {
   "cell_type": "markdown",
   "metadata": {},
   "source": [
    "### Gradient Boosting Classifier"
   ]
  },
  {
   "cell_type": "code",
   "execution_count": 30,
   "metadata": {},
   "outputs": [],
   "source": [
    "from sklearn.ensemble import RandomForestClassifier, GradientBoostingClassifier\n",
    "from sklearn.model_selection import cross_val_score, train_test_split\n",
    "\n",
    "data, target = train, np.ravel(train_label)\n",
    "x_train, x_test, y_train, y_test = train_test_split(data, target, test_size=0.25, stratify=target)"
   ]
  },
  {
   "cell_type": "code",
   "execution_count": 29,
   "metadata": {
    "collapsed": true
   },
   "outputs": [
    {
     "name": "stdout",
     "output_type": "stream",
     "text": [
      "Parameters:\n",
      "{'bootstrap': True,\n",
      " 'class_weight': None,\n",
      " 'criterion': 'gini',\n",
      " 'max_depth': None,\n",
      " 'max_features': 'auto',\n",
      " 'max_leaf_nodes': None,\n",
      " 'min_impurity_decrease': 0.0,\n",
      " 'min_impurity_split': None,\n",
      " 'min_samples_leaf': 1,\n",
      " 'min_samples_split': 2,\n",
      " 'min_weight_fraction_leaf': 0.0,\n",
      " 'n_estimators': 10,\n",
      " 'n_jobs': 1,\n",
      " 'oob_score': False,\n",
      " 'random_state': None,\n",
      " 'verbose': 0,\n",
      " 'warm_start': False}\n"
     ]
    }
   ],
   "source": [
    "rfc = RandomForestClassifier()\n",
    "print('Parameters:')\n",
    "pprint(rfc.get_params())"
   ]
  },
  {
   "cell_type": "code",
   "execution_count": 38,
   "metadata": {
    "collapsed": true
   },
   "outputs": [
    {
     "name": "stdout",
     "output_type": "stream",
     "text": [
      "Parametes:\n",
      "{'criterion': 'friedman_mse',\n",
      " 'init': None,\n",
      " 'learning_rate': 0.1,\n",
      " 'loss': 'deviance',\n",
      " 'max_depth': 3,\n",
      " 'max_features': None,\n",
      " 'max_leaf_nodes': None,\n",
      " 'min_impurity_decrease': 0.0,\n",
      " 'min_impurity_split': None,\n",
      " 'min_samples_leaf': 1,\n",
      " 'min_samples_split': 2,\n",
      " 'min_weight_fraction_leaf': 0.0,\n",
      " 'n_estimators': 100,\n",
      " 'presort': 'auto',\n",
      " 'random_state': None,\n",
      " 'subsample': 1.0,\n",
      " 'verbose': 0,\n",
      " 'warm_start': False}\n",
      "\n",
      "train score: 0.992\n",
      "\n",
      "val_score: 0.8439823997183954\n"
     ]
    }
   ],
   "source": [
    "gbc = GradientBoostingClassifier()\n",
    "print('Parametes:')\n",
    "pprint(gbc.get_params())\n",
    "gbc.fit(x_train, y_train)\n",
    "print('\\ntrain score: {}'.format(gbc.score(x_train, y_train)))\n",
    "print('\\nval_score: {}'.format(np.mean(cross_val_score(gbc, x_train, y_train))))"
   ]
  },
  {
   "cell_type": "markdown",
   "metadata": {},
   "source": [
    "    add feature scaling"
   ]
  },
  {
   "cell_type": "code",
   "execution_count": 48,
   "metadata": {},
   "outputs": [],
   "source": [
    "from sklearn.preprocessing import StandardScaler, MinMaxScaler, Normalizer\n",
    "\n",
    "std = StandardScaler()\n",
    "data_std = std.fit_transform(data)\n",
    "mms = MinMaxScaler()\n",
    "data_mms = mms.fit_transform(data)\n",
    "norm = Normalizer()\n",
    "data_norm = norm.fit_transform(data)"
   ]
  },
  {
   "cell_type": "code",
   "execution_count": 51,
   "metadata": {
    "collapsed": true
   },
   "outputs": [
    {
     "name": "stdout",
     "output_type": "stream",
     "text": [
      "Best Accuracy without Feature Scaling: 0.884\n",
      "GradientBoostingClassifier(criterion='friedman_mse', init=None,\n",
      "              learning_rate=0.1, loss='deviance', max_depth=3,\n",
      "              max_features=None, max_leaf_nodes=None,\n",
      "              min_impurity_decrease=0.0, min_impurity_split=None,\n",
      "              min_samples_leaf=1, min_samples_split=2,\n",
      "              min_weight_fraction_leaf=0.0, n_estimators=100,\n",
      "              presort='auto', random_state=None, subsample=1.0, verbose=0,\n",
      "              warm_start=False)\n"
     ]
    }
   ],
   "source": [
    "rate_of_learning = np.arange(0.05, 0.15, 0.01)\n",
    "kfold = 10\n",
    "## train_accuracy = list()\n",
    "val_accuracy = {'std': list(), 'mms':list(), 'norm':list()}\n",
    "bestGBC = None\n",
    "bestAcc = 0.0\n",
    "bestScale = None\n",
    "\n",
    "for i, rate in enumerate(rate_of_learning):\n",
    "    # rate\n",
    "    gbc = GradientBoostingClassifier(learning_rate=rate)\n",
    "    # fit with gbc\n",
    "    gbc.fit(x_train, y_train)\n",
    "    # train accuracy\n",
    "    ## train_accuracy.append(gbc.score(x_train, y_train))\n",
    "    # test_accuracy\n",
    "    std_score = np.mean(cross_val_score(gbc, data_std, target, cv=kfold))\n",
    "    val_accuracy['std'].append(std_score)\n",
    "    \n",
    "    mms_score = np.mean(cross_val_score(gbc, data_mms, target, cv=kfold))\n",
    "    val_accuracy['mms'].append(mms_score)\n",
    "    \n",
    "    norm_score = np.mean(cross_val_score(gbc, data_norm, target, cv=kfold))\n",
    "    val_accuracy['norm'].append(norm_score)\n",
    "    \n",
    "    if std_score > bestAcc:\n",
    "        bestAcc = std_score\n",
    "        bestGBC = gbc\n",
    "        bestScale = 'StandardScaler'\n",
    "    elif mms_score > bestAcc:\n",
    "        bestAcc = mms_score\n",
    "        bestGBC = gbc\n",
    "        bestScale = 'MinMaxScaler'\n",
    "    elif norm_score > bestAcc:\n",
    "        bestAcc = norm_score\n",
    "        bestGBC = gbc\n",
    "        bestScale = 'Normalizer'\n",
    "\n",
    "print('Best Accuracy without Feature Scaling:', bestAcc)\n",
    "print(bestGBC)"
   ]
  },
  {
   "cell_type": "code",
   "execution_count": 53,
   "metadata": {
    "scrolled": false
   },
   "outputs": [
    {
     "data": {
      "image/png": "[encoded data removed]",
      "text/plain": [
       "<Figure size 1152x576 with 1 Axes>"
      ]
     },
     "metadata": {},
     "output_type": "display_data"
    }
   ],
   "source": [
    "# plot\n",
    "plt.figure(figsize=(16, 8))\n",
    "## plt.plot(rate_of_learning, train_accuracy, label='Training Accuracy')\n",
    "plt.plot(rate_of_learning, val_accuracy['std'], label='CV Accu with StandardScaler')\n",
    "plt.plot(rate_of_learning, val_accuracy['mms'], label='CV Accu with MinMaxScaler')\n",
    "plt.plot(rate_of_learning, val_accuracy['norm'], label='CV Accu with Normalizer')\n",
    "plt.legend()\n",
    "plt.title('Learning Rate v.s. Accuracy')\n",
    "plt.xlabel('Rate of Learning')\n",
    "plt.ylabel('Accuracy')\n",
    "plt.xticks(rate_of_learning)\n",
    "plt.show()"
   ]
  },
  {
   "cell_type": "code",
   "execution_count": 58,
   "metadata": {},
   "outputs": [
    {
     "name": "stdout",
     "output_type": "stream",
     "text": [
      "(9000, 1)\n"
     ]
    }
   ],
   "source": [
    "gbc = GradientBoostingClassifier(learning_rate=0.08)\n",
    "gbc.fit(data_mms, target)\n",
    "test_fill = np.nan_to_num(test)\n",
    "submission = pd.DataFrame(bestGBC.predict(test_fill))\n",
    "print(submission.shape)\n",
    "submission.columns = ['Solution']\n",
    "submission['Id'] = np.arange(1, submission.shape[0]+1)\n",
    "submission = submission[['Id', 'Solution']]"
   ]
  },
  {
   "cell_type": "markdown",
   "metadata": {},
   "source": [
    "# predict test\n",
    "test_fill = np.nan_to_num(test)\n",
    "submission = pd.DataFrame(bestGBC.predict(test_fill))\n",
    "print(submission.shape)\n",
    "submission.columns = ['Solution']\n",
    "submission['Id'] = np.arange(1, submission.shape[0]+1)\n",
    "submission = submission[['Id', 'Solution']]\n",
    "submission"
   ]
  },
  {
   "cell_type": "code",
   "execution_count": null,
   "metadata": {},
   "outputs": [],
   "source": []
  },
  {
   "cell_type": "code",
   "execution_count": null,
   "metadata": {},
   "outputs": [],
   "source": []
  },
  {
   "cell_type": "code",
   "execution_count": null,
   "metadata": {},
   "outputs": [],
   "source": []
  },
  {
   "cell_type": "code",
   "execution_count": 59,
   "metadata": {},
   "outputs": [],
   "source": [
    "# to_csv\n",
    "submission.to_csv('submission.csv', index=False)"
   ]
  },
  {
   "cell_type": "markdown",
   "metadata": {},
   "source": [
    "#### Feature Selection (之後學)"
   ]
  },
  {
   "cell_type": "code",
   "execution_count": null,
   "metadata": {},
   "outputs": [],
   "source": []
  }
 ],
 "metadata": {
  "kernelspec": {
   "display_name": "Python 3",
   "language": "python",
   "name": "python3"
  },
  "language_info": {
   "codemirror_mode": {
    "name": "ipython",
    "version": 3
   },
   "file_extension": ".py",
   "mimetype": "text/x-python",
   "name": "python",
   "nbconvert_exporter": "python",
   "pygments_lexer": "ipython3",
   "version": "3.6.4"
  }
 },
 "nbformat": 4,
 "nbformat_minor": 2
}
