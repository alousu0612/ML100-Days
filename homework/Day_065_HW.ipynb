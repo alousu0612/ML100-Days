{
 "cells": [
  {
   "cell_type": "markdown",
   "metadata": {},
   "source": [
    "# 作業:\n",
    "嘗試調整參數:  \n",
    "sg:sg=1表示採用skip-gram,sg=0 表示採用cbow  \n",
    "window:能往左往右看幾個字的意思 "
   ]
  },
  {
   "cell_type": "code",
   "execution_count": 1,
   "metadata": {},
   "outputs": [],
   "source": [
    "import gensim, logging\n",
    "from gensim.models import word2vec"
   ]
  },
  {
   "cell_type": "code",
   "execution_count": 9,
   "metadata": {
    "scrolled": true
   },
   "outputs": [
    {
     "name": "stderr",
     "output_type": "stream",
     "text": [
      "2019-03-10 14:30:24,134 : INFO : collecting all words and their counts\n",
      "2019-03-10 14:30:24,135 : INFO : PROGRESS: at sentence #0, processed 0 words, keeping 0 word types\n",
      "2019-03-10 14:30:24,136 : INFO : collected 3 word types from a corpus of 4 raw words and 2 sentences\n",
      "2019-03-10 14:30:24,136 : INFO : Loading a fresh vocabulary\n",
      "2019-03-10 14:30:24,137 : INFO : effective_min_count=1 retains 3 unique words (100% of original 3, drops 0)\n",
      "2019-03-10 14:30:24,139 : INFO : effective_min_count=1 leaves 4 word corpus (100% of original 4, drops 0)\n",
      "2019-03-10 14:30:24,139 : INFO : deleting the raw counts dictionary of 3 items\n",
      "2019-03-10 14:30:24,140 : INFO : sample=0.001 downsamples 3 most-common words\n",
      "2019-03-10 14:30:24,141 : INFO : downsampling leaves estimated 0 word corpus (5.7% of prior 4)\n",
      "2019-03-10 14:30:24,141 : INFO : estimated required memory for 3 words and 384 dimensions: 10716 bytes\n",
      "2019-03-10 14:30:24,142 : INFO : resetting layer weights\n",
      "2019-03-10 14:30:24,144 : INFO : training model with 4 workers on 3 vocabulary and 384 features, using sg=1 hs=0 sample=0.001 negative=5 window=3\n",
      "2019-03-10 14:30:24,149 : INFO : worker thread finished; awaiting finish of 3 more threads\n",
      "2019-03-10 14:30:24,150 : INFO : worker thread finished; awaiting finish of 2 more threads\n",
      "2019-03-10 14:30:24,151 : INFO : worker thread finished; awaiting finish of 1 more threads\n",
      "2019-03-10 14:30:24,152 : INFO : worker thread finished; awaiting finish of 0 more threads\n",
      "2019-03-10 14:30:24,152 : INFO : EPOCH - 1 : training on 4 raw words (0 effective words) took 0.0s, 0 effective words/s\n",
      "2019-03-10 14:30:24,157 : INFO : worker thread finished; awaiting finish of 3 more threads\n",
      "2019-03-10 14:30:24,159 : INFO : worker thread finished; awaiting finish of 2 more threads\n",
      "2019-03-10 14:30:24,160 : INFO : worker thread finished; awaiting finish of 1 more threads\n",
      "2019-03-10 14:30:24,162 : INFO : worker thread finished; awaiting finish of 0 more threads\n",
      "2019-03-10 14:30:24,162 : INFO : EPOCH - 2 : training on 4 raw words (0 effective words) took 0.0s, 0 effective words/s\n",
      "2019-03-10 14:30:24,169 : INFO : worker thread finished; awaiting finish of 3 more threads\n",
      "2019-03-10 14:30:24,170 : INFO : worker thread finished; awaiting finish of 2 more threads\n",
      "2019-03-10 14:30:24,172 : INFO : worker thread finished; awaiting finish of 1 more threads\n",
      "2019-03-10 14:30:24,173 : INFO : worker thread finished; awaiting finish of 0 more threads\n",
      "2019-03-10 14:30:24,174 : INFO : EPOCH - 3 : training on 4 raw words (1 effective words) took 0.0s, 190 effective words/s\n",
      "2019-03-10 14:30:24,183 : INFO : worker thread finished; awaiting finish of 3 more threads\n",
      "2019-03-10 14:30:24,183 : INFO : worker thread finished; awaiting finish of 2 more threads\n",
      "2019-03-10 14:30:24,184 : INFO : worker thread finished; awaiting finish of 1 more threads\n",
      "2019-03-10 14:30:24,185 : INFO : worker thread finished; awaiting finish of 0 more threads\n",
      "2019-03-10 14:30:24,186 : INFO : EPOCH - 4 : training on 4 raw words (1 effective words) took 0.0s, 266 effective words/s\n",
      "2019-03-10 14:30:24,191 : INFO : worker thread finished; awaiting finish of 3 more threads\n",
      "2019-03-10 14:30:24,192 : INFO : worker thread finished; awaiting finish of 2 more threads\n",
      "2019-03-10 14:30:24,193 : INFO : worker thread finished; awaiting finish of 1 more threads\n",
      "2019-03-10 14:30:24,194 : INFO : worker thread finished; awaiting finish of 0 more threads\n",
      "2019-03-10 14:30:24,195 : INFO : EPOCH - 5 : training on 4 raw words (0 effective words) took 0.0s, 0 effective words/s\n",
      "2019-03-10 14:30:24,195 : INFO : training on a 20 raw words (2 effective words) took 0.1s, 40 effective words/s\n",
      "2019-03-10 14:30:24,196 : WARNING : under 10 jobs per worker: consider setting a smaller `batch_words' for smoother alpha decay\n"
     ]
    }
   ],
   "source": [
    "sentences = [['I am a hero', 'sentence'], ['She is a teacher', 'sentence']] \n",
    "\n",
    "# train word2vec on the two sentences  \n",
    "logging.basicConfig(format='%(asctime)s : %(levelname)s : %(message)s', level=logging.INFO)  \n",
    "  \n",
    "# train word2vec on the two sentences  \n",
    "model = word2vec.Word2Vec(sentences, size=384, min_count=1, window=3, workers=4, sg=1)  \n",
    "\n",
    "# sg=0 表示COBW, sg=1 表示skip-gram"
   ]
  },
  {
   "cell_type": "code",
   "execution_count": 10,
   "metadata": {},
   "outputs": [
    {
     "name": "stdout",
     "output_type": "stream",
     "text": [
      "Word2Vec(vocab=3, size=384, alpha=0.025)\n"
     ]
    }
   ],
   "source": [
    "print(model)"
   ]
  },
  {
   "cell_type": "code",
   "execution_count": 16,
   "metadata": {},
   "outputs": [
    {
     "name": "stderr",
     "output_type": "stream",
     "text": [
      "C:\\Users\\USER\\Anaconda3\\lib\\site-packages\\ipykernel_launcher.py:1: DeprecationWarning: Call to deprecated `similarity` (Method will be removed in 4.0.0, use self.wv.similarity() instead).\n",
      "  \"\"\"Entry point for launching an IPython kernel.\n"
     ]
    },
    {
     "data": {
      "text/plain": [
       "0.0152660515"
      ]
     },
     "execution_count": 16,
     "metadata": {},
     "output_type": "execute_result"
    }
   ],
   "source": [
    "model.similarity('I am a hero', 'She is a teacher')"
   ]
  },
  {
   "cell_type": "code",
   "execution_count": 18,
   "metadata": {},
   "outputs": [
    {
     "name": "stderr",
     "output_type": "stream",
     "text": [
      "2019-03-10 14:32:04,126 : INFO : saving Word2Vec object under mymodel, separately None\n",
      "2019-03-10 14:32:04,128 : INFO : not storing attribute vectors_norm\n",
      "2019-03-10 14:32:04,129 : INFO : not storing attribute cum_table\n",
      "2019-03-10 14:32:04,131 : INFO : saved mymodel\n",
      "2019-03-10 14:32:04,132 : INFO : loading Word2Vec object from mymodel\n",
      "2019-03-10 14:32:04,137 : INFO : loading wv recursively from mymodel.wv.* with mmap=None\n",
      "2019-03-10 14:32:04,138 : INFO : setting ignored attribute vectors_norm to None\n",
      "2019-03-10 14:32:04,139 : INFO : loading vocabulary recursively from mymodel.vocabulary.* with mmap=None\n",
      "2019-03-10 14:32:04,141 : INFO : loading trainables recursively from mymodel.trainables.* with mmap=None\n",
      "2019-03-10 14:32:04,142 : INFO : setting ignored attribute cum_table to None\n",
      "2019-03-10 14:32:04,143 : INFO : loaded mymodel\n"
     ]
    }
   ],
   "source": [
    "model.save('mymodel')\n",
    "new_mdl = gensim.models.word2vec.Word2Vec.load('mymodel')"
   ]
  },
  {
   "cell_type": "code",
   "execution_count": 19,
   "metadata": {},
   "outputs": [
    {
     "name": "stderr",
     "output_type": "stream",
     "text": [
      "2019-03-10 14:32:30,973 : INFO : collecting all words and their counts\n",
      "2019-03-10 14:32:30,974 : INFO : PROGRESS: at sentence #0, processed 0 words, keeping 0 word types\n",
      "2019-03-10 14:32:30,975 : INFO : collected 3 word types from a corpus of 4 raw words and 2 sentences\n",
      "2019-03-10 14:32:30,976 : INFO : Loading a fresh vocabulary\n",
      "2019-03-10 14:32:30,977 : INFO : effective_min_count=1 retains 3 unique words (100% of original 3, drops 0)\n",
      "2019-03-10 14:32:30,977 : INFO : effective_min_count=1 leaves 4 word corpus (100% of original 4, drops 0)\n",
      "2019-03-10 14:32:30,978 : INFO : deleting the raw counts dictionary of 3 items\n",
      "2019-03-10 14:32:30,979 : INFO : sample=0.001 downsamples 3 most-common words\n",
      "2019-03-10 14:32:30,980 : INFO : downsampling leaves estimated 0 word corpus (5.7% of prior 4)\n",
      "2019-03-10 14:32:30,981 : INFO : estimated required memory for 3 words and 256 dimensions: 7644 bytes\n",
      "2019-03-10 14:32:30,981 : INFO : resetting layer weights\n",
      "2019-03-10 14:32:30,982 : INFO : training model with 4 workers on 3 vocabulary and 256 features, using sg=0 hs=0 sample=0.001 negative=5 window=5\n",
      "2019-03-10 14:32:30,989 : INFO : worker thread finished; awaiting finish of 3 more threads\n",
      "2019-03-10 14:32:30,990 : INFO : worker thread finished; awaiting finish of 2 more threads\n",
      "2019-03-10 14:32:30,991 : INFO : worker thread finished; awaiting finish of 1 more threads\n",
      "2019-03-10 14:32:30,992 : INFO : worker thread finished; awaiting finish of 0 more threads\n",
      "2019-03-10 14:32:30,992 : INFO : EPOCH - 1 : training on 4 raw words (0 effective words) took 0.0s, 0 effective words/s\n",
      "2019-03-10 14:32:30,996 : INFO : worker thread finished; awaiting finish of 3 more threads\n",
      "2019-03-10 14:32:30,997 : INFO : worker thread finished; awaiting finish of 2 more threads\n",
      "2019-03-10 14:32:30,998 : INFO : worker thread finished; awaiting finish of 1 more threads\n",
      "2019-03-10 14:32:30,998 : INFO : worker thread finished; awaiting finish of 0 more threads\n",
      "2019-03-10 14:32:30,999 : INFO : EPOCH - 2 : training on 4 raw words (0 effective words) took 0.0s, 0 effective words/s\n",
      "2019-03-10 14:32:31,005 : INFO : worker thread finished; awaiting finish of 3 more threads\n",
      "2019-03-10 14:32:31,007 : INFO : worker thread finished; awaiting finish of 2 more threads\n",
      "2019-03-10 14:32:31,008 : INFO : worker thread finished; awaiting finish of 1 more threads\n",
      "2019-03-10 14:32:31,010 : INFO : worker thread finished; awaiting finish of 0 more threads\n",
      "2019-03-10 14:32:31,011 : INFO : EPOCH - 3 : training on 4 raw words (1 effective words) took 0.0s, 133 effective words/s\n",
      "2019-03-10 14:32:31,019 : INFO : worker thread finished; awaiting finish of 3 more threads\n",
      "2019-03-10 14:32:31,020 : INFO : worker thread finished; awaiting finish of 2 more threads\n",
      "2019-03-10 14:32:31,021 : INFO : worker thread finished; awaiting finish of 1 more threads\n",
      "2019-03-10 14:32:31,022 : INFO : worker thread finished; awaiting finish of 0 more threads\n",
      "2019-03-10 14:32:31,023 : INFO : EPOCH - 4 : training on 4 raw words (0 effective words) took 0.0s, 0 effective words/s\n",
      "2019-03-10 14:32:31,028 : INFO : worker thread finished; awaiting finish of 3 more threads\n",
      "2019-03-10 14:32:31,029 : INFO : worker thread finished; awaiting finish of 2 more threads\n",
      "2019-03-10 14:32:31,029 : INFO : worker thread finished; awaiting finish of 1 more threads\n",
      "2019-03-10 14:32:31,030 : INFO : worker thread finished; awaiting finish of 0 more threads\n",
      "2019-03-10 14:32:31,031 : INFO : EPOCH - 5 : training on 4 raw words (0 effective words) took 0.0s, 0 effective words/s\n",
      "2019-03-10 14:32:31,032 : INFO : training on a 20 raw words (1 effective words) took 0.0s, 20 effective words/s\n",
      "2019-03-10 14:32:31,033 : WARNING : under 10 jobs per worker: consider setting a smaller `batch_words' for smoother alpha decay\n",
      "C:\\Users\\USER\\Anaconda3\\lib\\site-packages\\ipykernel_launcher.py:2: DeprecationWarning: Call to deprecated `similarity` (Method will be removed in 4.0.0, use self.wv.similarity() instead).\n",
      "  \n"
     ]
    },
    {
     "data": {
      "text/plain": [
       "-0.007862551"
      ]
     },
     "execution_count": 19,
     "metadata": {},
     "output_type": "execute_result"
    }
   ],
   "source": [
    "model = word2vec.Word2Vec(sentences, size=256, min_count=1, window=5, workers=4, sg=0)  \n",
    "model.similarity('I am a hero','She is a teacher')"
   ]
  },
  {
   "cell_type": "code",
   "execution_count": null,
   "metadata": {},
   "outputs": [],
   "source": []
  }
 ],
 "metadata": {
  "kernelspec": {
   "display_name": "Python 3",
   "language": "python",
   "name": "python3"
  },
  "language_info": {
   "codemirror_mode": {
    "name": "ipython",
    "version": 3
   },
   "file_extension": ".py",
   "mimetype": "text/x-python",
   "name": "python",
   "nbconvert_exporter": "python",
   "pygments_lexer": "ipython3",
   "version": "3.6.4"
  }
 },
 "nbformat": 4,
 "nbformat_minor": 2
}
