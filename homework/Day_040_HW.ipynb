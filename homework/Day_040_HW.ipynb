{
 "cells": [
  {
   "cell_type": "markdown",
   "metadata": {},
   "source": [
    "## 練習時間\n",
    "試著使用 sklearn datasets 的其他資料集 (boston, ...)，來訓練自己的線性迴歸模型，並加上適當的正則化來觀察訓練情形。"
   ]
  },
  {
   "cell_type": "code",
   "execution_count": 1,
   "metadata": {},
   "outputs": [],
   "source": [
    "from sklearn import datasets, linear_model\n",
    "from sklearn.model_selection import train_test_split\n",
    "from sklearn.metrics import mean_squared_error, r2_score"
   ]
  },
  {
   "cell_type": "markdown",
   "metadata": {},
   "source": [
    "#### boston dataset"
   ]
  },
  {
   "cell_type": "code",
   "execution_count": 3,
   "metadata": {},
   "outputs": [],
   "source": [
    "boston = datasets.load_boston()\n",
    "x_train, x_test, y_train, y_test = train_test_split(boston.data, boston.target, test_size=0.15)\n",
    "lin_regr = linear_model.LinearRegression()\n",
    "lin_regr.fit(x_train, y_train)\n",
    "y_pred = lin_regr.predict(x_test)"
   ]
  },
  {
   "cell_type": "code",
   "execution_count": 4,
   "metadata": {},
   "outputs": [
    {
     "data": {
      "text/plain": [
       "array([-1.12098177e-01,  5.41811754e-02,  4.85206339e-02,  3.00275925e+00,\n",
       "       -1.99202211e+01,  3.54485152e+00, -2.40799322e-04, -1.58837582e+00,\n",
       "        2.99954973e-01, -1.18387073e-02, -9.70099771e-01,  8.18614649e-03,\n",
       "       -5.20796012e-01])"
      ]
     },
     "execution_count": 4,
     "metadata": {},
     "output_type": "execute_result"
    }
   ],
   "source": [
    "lin_regr.coef_"
   ]
  },
  {
   "cell_type": "code",
   "execution_count": 6,
   "metadata": {},
   "outputs": [
    {
     "name": "stdout",
     "output_type": "stream",
     "text": [
      "Mean Squared Error: 18.9021\n",
      "R-Squared: 0.8049\n"
     ]
    }
   ],
   "source": [
    "print(\"Mean Squared Error: {:.4f}\".format(mean_squared_error(y_test, y_pred)))\n",
    "print(\"R-Squared: {:.4f}\".format(r2_score(y_test, y_pred)))"
   ]
  },
  {
   "cell_type": "code",
   "execution_count": 23,
   "metadata": {},
   "outputs": [],
   "source": [
    "lasso = linear_model.Lasso(alpha=1.0)\n",
    "lasso.fit(x_train, y_train)\n",
    "y_pred = lasso.predict(x_test)"
   ]
  },
  {
   "cell_type": "code",
   "execution_count": 24,
   "metadata": {},
   "outputs": [
    {
     "data": {
      "text/plain": [
       "array([-0.06228007,  0.05697578, -0.        ,  0.        , -0.        ,\n",
       "        0.31652294,  0.02585284, -0.69998592,  0.25098771, -0.0140016 ,\n",
       "       -0.74639498,  0.0070463 , -0.78845113])"
      ]
     },
     "execution_count": 24,
     "metadata": {},
     "output_type": "execute_result"
    }
   ],
   "source": [
    "lasso.coef_"
   ]
  },
  {
   "cell_type": "code",
   "execution_count": 25,
   "metadata": {},
   "outputs": [
    {
     "name": "stdout",
     "output_type": "stream",
     "text": [
      "Mean Squared Error: 27.4808\n",
      "R-Squared: 0.7163\n"
     ]
    }
   ],
   "source": [
    "print(\"Mean Squared Error: {:.4f}\".format(mean_squared_error(y_test, y_pred)))\n",
    "print(\"R-Squared: {:.4f}\".format(r2_score(y_test, y_pred)))"
   ]
  },
  {
   "cell_type": "code",
   "execution_count": 26,
   "metadata": {},
   "outputs": [],
   "source": [
    "ridge = linear_model.Ridge(alpha=1.0)\n",
    "ridge.fit(x_train, y_train)\n",
    "y_pred = ridge.predict(x_test)"
   ]
  },
  {
   "cell_type": "code",
   "execution_count": 27,
   "metadata": {},
   "outputs": [
    {
     "data": {
      "text/plain": [
       "array([-1.07063309e-01,  5.52050260e-02,  1.31395411e-02,  2.82907144e+00,\n",
       "       -1.13846130e+01,  3.58453051e+00, -7.61628795e-03, -1.46277821e+00,\n",
       "        2.77960302e-01, -1.23701137e-02, -8.83030345e-01,  8.58154664e-03,\n",
       "       -5.32938460e-01])"
      ]
     },
     "execution_count": 27,
     "metadata": {},
     "output_type": "execute_result"
    }
   ],
   "source": [
    "ridge.coef_"
   ]
  },
  {
   "cell_type": "code",
   "execution_count": 28,
   "metadata": {},
   "outputs": [
    {
     "name": "stdout",
     "output_type": "stream",
     "text": [
      "Mean Squared Error: 18.4096\n",
      "R-Squared: 0.8100\n"
     ]
    }
   ],
   "source": [
    "print(\"Mean Squared Error: {:.4f}\".format(mean_squared_error(y_test, y_pred)))\n",
    "print(\"R-Squared: {:.4f}\".format(r2_score(y_test, y_pred)))"
   ]
  },
  {
   "cell_type": "markdown",
   "metadata": {},
   "source": [
    "### Results\n",
    "* Lasso 表現最差，雖有feature selection\n",
    "\n",
    "* Ridge 表現最好"
   ]
  },
  {
   "cell_type": "code",
   "execution_count": null,
   "metadata": {},
   "outputs": [],
   "source": []
  }
 ],
 "metadata": {
  "kernelspec": {
   "display_name": "Python 3",
   "language": "python",
   "name": "python3"
  },
  "language_info": {
   "codemirror_mode": {
    "name": "ipython",
    "version": 3
   },
   "file_extension": ".py",
   "mimetype": "text/x-python",
   "name": "python",
   "nbconvert_exporter": "python",
   "pygments_lexer": "ipython3",
   "version": "3.6.4"
  }
 },
 "nbformat": 4,
 "nbformat_minor": 2
}
